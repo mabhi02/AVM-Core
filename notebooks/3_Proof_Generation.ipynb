{
 "cells": [
  {
   "cell_type": "markdown",
   "metadata": {},
   "source": [
    "# Proof Generation with AVM-CORE\n",
    "\n",
    "This notebook shows how to:\n",
    "1. Load a trained model\n",
    "2. Generate proofs for theorems\n",
    "3. Visualize and analyze results"
   ]
  },
  {
   "cell_type": "code",
   "execution_count": null,
   "metadata": {},
   "outputs": [],
   "source": [
    "from avm.models.proof_generator import AVMCore\n",
    "from avm.utils.visualization import ProofVisualizer\n",
    "\n",
    "# Load model\n",
    "model = AVMCore.load_from_checkpoint('checkpoints/best_model.pt')\n",
    "\n",
    "# Generate proof\n",
    "theorem = \"Prove that for all n > 0, n^2 ≥ n\"\n",
    "proof = model.generate_proof(theorem)\n",
    "\n",
    "# Visualize results\n",
    "visualizer = ProofVisualizer()\n",
    "visualizer.plot_proof_graph(proof['symbols'], proof['relations'])"
   ]
  }
 ],
 "metadata": {
  "kernelspec": {
   "display_name": "Python 3",
   "language": "python",
   "name": "python3"
  }
 }
}