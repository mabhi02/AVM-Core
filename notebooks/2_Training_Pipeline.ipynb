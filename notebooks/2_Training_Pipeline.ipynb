{
 "cells": [
  {
   "cell_type": "markdown",
   "metadata": {},
   "source": [
    "# Training Pipeline for AVM-CORE\n",
    "\n",
    "This notebook demonstrates:\n",
    "1. Model initialization\n",
    "2. Training loop setup\n",
    "3. Validation and monitoring"
   ]
  },
  {
   "cell_type": "code",
   "execution_count": null,
   "metadata": {},
   "outputs": [],
   "source": [
    "import torch\n",
    "from avm.models.proof_generator import AVMCore\n",
    "from avm.training.trainer import ProofTrainer\n",
    "import yaml\n",
    "\n",
    "# Load configs\n",
    "with open('../configs/model_config.yaml', 'r') as f:\n",
    "    model_config = yaml.safe_load(f)\n",
    "\n",
    "with open('../configs/training_config.yaml', 'r') as f:\n",
    "    training_config = yaml.safe_load(f)\n",
    "\n",
    "# Initialize model\n",
    "model = AVMCore(**model_config['model'])\n",
    "trainer = ProofTrainer(model, **training_config['training'])\n",
    "\n",
    "# Training loop example\n",
    "for epoch in range(5):\n",
    "    loss = trainer.train_epoch()\n",
    "    print(f\"Epoch {epoch + 1}, Loss: {loss:.4f}\")"
   ]
  }
 ],
 "metadata": {
  "kernelspec": {
   "display_name": "Python 3",
   "language": "python",
   "name": "python3"
  }
 },
 "nbformat": 4,
 "nbformat_minor": 2
}
