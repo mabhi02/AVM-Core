{
 "cells": [
  {
   "cell_type": "markdown",
   "metadata": {},
   "source": [
    "# Data Processing Pipeline for AVM-CORE\n",
    "\n",
    "This notebook demonstrates how to:\n",
    "1. Load and preprocess mathematical proofs\n",
    "2. Create the vocabulary\n",
    "3. Transform proofs into training data"
   ]
  },
  {
   "cell_type": "code",
   "execution_count": null,
   "metadata": {},
   "outputs": [],
   "source": [
    "import sys\n",
    "sys.path.append('..')\n",
    "\n",
    "from avm.data.processors.proof_processor import ProofProcessor\n",
    "from avm.data.processors.symbol_processor import SymbolProcessor\n",
    "from avm.data.dataset import ProofDataset"
   ]
  },
  {
   "cell_type": "code",
   "execution_count": null,
   "metadata": {},
   "outputs": [],
   "source": [
    "# Initialize processors\n",
    "proof_processor = ProofProcessor()\n",
    "symbol_processor = SymbolProcessor()\n",
    "\n",
    "# Load sample proof\n",
    "sample_proof = {\n",
    "    'theorem': 'Prove that the sum of first n natural numbers is n(n+1)/2',\n",
    "    'proof': '''\n",
    "    1. Let's prove this by induction\n",
    "    2. Base case: When n=1, sum = 1 = 1(1+1)/2\n",
    "    3. Assume true for k: sum(k) = k(k+1)/2\n",
    "    4. For k+1: sum(k+1) = sum(k) + (k+1)\n",
    "    5. = k(k+1)/2 + (k+1)\n",
    "    6. = (k(k+1) + 2(k+1))/2\n",
    "    7. = (k^2 + 3k + 2)/2\n",
    "    8. = (k+1)(k+2)/2\n",
    "    9. Therefore, proven for k+1\n",
    "    '''\n",
    "}\n",
    "\n",
    "# Process proof\n",
    "processed_proof = proof_processor.process_proof(sample_proof)\n",
    "print(\"Processed Proof Structure:\")\n",
    "print(processed_proof)"
   ]
  }
 ],
 "metadata": {
  "kernelspec": {
   "display_name": "Python 3",
   "language": "python",
   "name": "python3"
  }
 }
}